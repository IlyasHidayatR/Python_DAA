{
  "nbformat": 4,
  "nbformat_minor": 0,
  "metadata": {
    "colab": {
      "name": "Tugas DAA_Ilyas Hidayat Rusdy.ipynb",
      "provenance": [],
      "collapsed_sections": [],
      "toc_visible": true,
      "authorship_tag": "ABX9TyMmAXs2BKjtwI6YDW/zDR0x",
      "include_colab_link": true
    },
    "kernelspec": {
      "name": "python3",
      "display_name": "Python 3"
    },
    "language_info": {
      "name": "python"
    }
  },
  "cells": [
    {
      "cell_type": "markdown",
      "metadata": {
        "id": "view-in-github",
        "colab_type": "text"
      },
      "source": [
        "<a href=\"https://colab.research.google.com/github/IlyasHidayatR/Python_SimpleProgram/blob/main/Tugas_DAA_Ilyas_Hidayat_Rusdy.ipynb\" target=\"_parent\"><img src=\"https://colab.research.google.com/assets/colab-badge.svg\" alt=\"Open In Colab\"/></a>"
      ]
    },
    {
      "cell_type": "markdown",
      "source": [
        "\n",
        "# Jawaban No. 2"
      ],
      "metadata": {
        "id": "dIuMuGDDNhgq"
      }
    },
    {
      "cell_type": "markdown",
      "source": [
        "**Program Integer Multiplication**\n",
        "\n",
        "Program dijalankan menggunakan terminal dengan melakukan run pada section \"a. Integer multiplication\". Pada program dibuat sebuah fungsi\n",
        "multiply yang mengalikan bilangan num sebanyak num2. Dilakukan pengecekan jika jumlah num2 = 0 maka hasil perkalian = 0. Jika >= 2 maka dilakukan rekursif untuk menambahkan nilai num dengan hasil rekursif dengan\n",
        "perubahan nilai num2.\n",
        "Kemudian dilakukan pengecekan dengan menggunakan try except jika input yang dihasilkan tidak sesuai."
      ],
      "metadata": {
        "id": "7ghks6_q9t5q"
      }
    },
    {
      "cell_type": "code",
      "execution_count": 1,
      "metadata": {
        "colab": {
          "base_uri": "https://localhost:8080/"
        },
        "id": "fWAWP4kc9smS",
        "outputId": "95555dd6-f22b-440f-ea7e-ac9f16fd53db"
      },
      "outputs": [
        {
          "output_type": "stream",
          "name": "stdout",
          "text": [
            "Enter a number: 3\n",
            "Enter another number: 1\n",
            "3\n"
          ]
        }
      ],
      "source": [
        "#integer multiplication with recursion\n",
        "def multiplication(num,num2):\n",
        "    if num2 == 0:\n",
        "        return 0\n",
        "    else:\n",
        "        return num + multiplication(num,num2-1)\n",
        "try:\n",
        "  input_num = int(input(\"Enter a number: \"))\n",
        "  input_num2 = int(input(\"Enter another number: \"))\n",
        "  print(multiplication(input_num,input_num2))\n",
        "except:\n",
        "  print(\"That's not a number\")"
      ]
    },
    {
      "cell_type": "markdown",
      "source": [
        "**Program Powering**\n",
        "\n",
        "Program dijalankan menggunakan terminal dengan melakukan run pada section \"b. Powering\". Pada program dibuat sebuah fungsi power yang\n",
        "mengalikan bilangan bulat num sebanyak num2 kali. Jika pangkat num2 = 0 maka hasilnya 1, jika pangkat >= 1 maka dilakukan rekursif\n",
        "yang mengalikan nilai num dengan fungsi powering(num, num2-1) dimana num2-1 merupakan perubahan nilai dari num.\n",
        "Kemudian dilakukan pengecekan dengan menggunakan try except jika input yang dihasilkan tidak sesuai."
      ],
      "metadata": {
        "id": "XXyvstqTA4-Y"
      }
    },
    {
      "cell_type": "code",
      "source": [
        "#integer powering with recursion\n",
        "def powering(num,num2):\n",
        "    if num2 == 0:\n",
        "        return 1\n",
        "    else:\n",
        "        return num * powering(num,num2-1)\n",
        "try:\n",
        "  input_num = int(input(\"Bilangan X: \"))\n",
        "  input_num2 = int(input(\"Bilangan n pangkat: \"))\n",
        "  print(powering(input_num,input_num2))\n",
        "except:\n",
        "  print(\"That's not a number\")"
      ],
      "metadata": {
        "colab": {
          "base_uri": "https://localhost:8080/"
        },
        "id": "2Q2ragNqGKOt",
        "outputId": "a038ebed-400b-426f-c44e-cd8b9d0a1cfa"
      },
      "execution_count": null,
      "outputs": [
        {
          "output_type": "stream",
          "name": "stdout",
          "text": [
            "Bilangan X: 7\n",
            "Bilangan n pangkat: 2\n",
            "49\n"
          ]
        }
      ]
    },
    {
      "cell_type": "markdown",
      "source": [
        "**Program Print Down**\n",
        "\n",
        "Program dijalankan menggunakan terminal dengan melakukan run pada section \"c. Print Down\". Pada program dibuat fungsi printdown\n",
        "untuk melakukan print sebuah bilangan dari num sampai 0. Pertama di cek jika num = 0 maka return 0, jika tidak maka print num\n",
        "dan lakukan rekursif dengan perubahan nilai num dikurangi 1 (num-1). Kemudian dilakukan pengecekan dengan menggunakan try except jika input yang dihasilkan tidak sesuai."
      ],
      "metadata": {
        "id": "ezSCtj4FGm-P"
      }
    },
    {
      "cell_type": "code",
      "source": [
        "#integer print down with recursion\n",
        "def print_down(num):\n",
        "    if num == 0:\n",
        "        print(num)\n",
        "    else:\n",
        "        print(num)\n",
        "        print_down(num-1)\n",
        "try:\n",
        "  input_num = int(input(\"Enter a number: \"))\n",
        "  print_down(input_num)\n",
        "except:\n",
        "  print(\"That's not a number\")"
      ],
      "metadata": {
        "colab": {
          "base_uri": "https://localhost:8080/"
        },
        "id": "wAFisnvGG11t",
        "outputId": "af0c8a1d-d6c8-446c-dd4d-30dfd3987982"
      },
      "execution_count": null,
      "outputs": [
        {
          "output_type": "stream",
          "name": "stdout",
          "text": [
            "Enter a number: 5\n",
            "5\n",
            "4\n",
            "3\n",
            "2\n",
            "1\n",
            "0\n"
          ]
        }
      ]
    },
    {
      "cell_type": "markdown",
      "source": [
        "**Program Print Up**\n",
        "\n",
        "Program dijalankan menggunakan terminal dengan melakukan run pada section \"d. Print Up\". Program dibuat dengan memodifikasi\n",
        "program print down sebelumnya, dengan menambahkan parameter num pada fungsi print_up sebagai penanda untuk melakukan rekursif.\n",
        "Saat num == 0, maka hasilnya adalah nilai num. Sedangkan jika berbeda, maka num-1 dan dilakukan perubahan pada nilai num dan print num\n",
        "hingga mencapai sama dengan nilai num."
      ],
      "metadata": {
        "id": "cuTVRuSVHApg"
      }
    },
    {
      "cell_type": "code",
      "source": [
        "#integer print up with recursion\n",
        "def print_up(num):\n",
        "    if num == 0:\n",
        "        print(num)\n",
        "    else:\n",
        "        print_up(num-1)\n",
        "        print(num)\n",
        "try:\n",
        "  input_num = int(input(\"Enter a number: \"))\n",
        "  print_up(input_num)\n",
        "except:\n",
        "  print(\"That's not a number\")"
      ],
      "metadata": {
        "colab": {
          "base_uri": "https://localhost:8080/"
        },
        "id": "DfxUCqrGHgTy",
        "outputId": "92e4dd2e-0681-4c78-dd92-e0f88a744d4e"
      },
      "execution_count": null,
      "outputs": [
        {
          "output_type": "stream",
          "name": "stdout",
          "text": [
            "Enter a number: 5\n",
            "0\n",
            "1\n",
            "2\n",
            "3\n",
            "4\n",
            "5\n"
          ]
        }
      ]
    },
    {
      "cell_type": "markdown",
      "source": [
        "**Progam Reverse String**\n",
        "\n",
        "Program dijalankan menggunakan terminal dengan melakukan run pada section \"e. Reverse string\". Pada program dibuatkan fungsi\n",
        "reverse_str yang menerima input_str. pertama dicek jika panjang dari str adalah 0, maka return \"\". Jika tidak, maka untuk membalikan\n",
        "string yang diinput, maka lakukan slicing pada input dimulai dari index 1 hingga terakhir, kemudian disambungkan\n",
        "dengan nilai index ke 0, hingga panjang dari string mencapai 0 dan proses rekursif berhenti."
      ],
      "metadata": {
        "id": "6Vgm80v_HqT2"
      }
    },
    {
      "cell_type": "code",
      "source": [
        "#reverse string with recursion\n",
        "input_str = input(\"Enter a string: \")\n",
        "def reverse_str(str):\n",
        "    if len(str) == 0:\n",
        "        return \"\"\n",
        "    else:\n",
        "        return reverse_str(str[1:]) + str[0]\n",
        "print(reverse_str(input_str))"
      ],
      "metadata": {
        "colab": {
          "base_uri": "https://localhost:8080/"
        },
        "id": "y2nn7EtBH1k-",
        "outputId": "05b56d22-fc29-4099-a253-723321a1221d"
      },
      "execution_count": null,
      "outputs": [
        {
          "output_type": "stream",
          "name": "stdout",
          "text": [
            "Enter a string: Salam\n",
            "malaS\n"
          ]
        }
      ]
    },
    {
      "cell_type": "markdown",
      "source": [
        "**Program Prime Checking**\n",
        "\n",
        "Program dijalankan menggunakan terminal dengan melakukan run pada section \"f. Prime checking\". Pada program dibuat fungsi\n",
        "prime yang akan mengecek apakah sebuah bilangan prima atau tidak dengan parameter input_num sebagai bilangan yang akan dicek dan nilai n yang akan berubah nilainya untuk mengecek bilangan input_num. Pertama yaitu mendefinisikan basecase. Kemudian terdapat sebuah base case yang akan menentukan apakah bernilai true (prima) jika nilai dari n * n lebih besar dari input_num, maka input_num adalah \n",
        "bilangan prima."
      ],
      "metadata": {
        "id": "SVGXp0-1IoFc"
      }
    },
    {
      "cell_type": "code",
      "source": [
        "#integer prime check with recursion\n",
        "def prime(input_num, n = 2):\n",
        "  if(input_num == 2):\n",
        "    return True\n",
        "  if(input_num < 2):\n",
        "    return False\n",
        "  if(input_num % n == 0):\n",
        "    return False\n",
        "  if (n * n > input_num):\n",
        "    return True\n",
        "  return prime(input_num, n + 1)\n",
        "  \n",
        "try:\n",
        "  input_num = int(input(\"Enter a number: \"))\n",
        "  print(prime(input_num))\n",
        "except:\n",
        "  print(\"That's not a number\")"
      ],
      "metadata": {
        "colab": {
          "base_uri": "https://localhost:8080/"
        },
        "id": "Rn2Jsy_LIzOL",
        "outputId": "33c78fd1-18c8-4359-e096-3f56404f1800"
      },
      "execution_count": null,
      "outputs": [
        {
          "output_type": "stream",
          "name": "stdout",
          "text": [
            "Enter a number: 9\n",
            "False\n"
          ]
        }
      ]
    },
    {
      "cell_type": "markdown",
      "source": [
        "**Program Fibonachi**\n",
        "\n",
        "Program dijalankan menggunakan terminal dengan melakukan run pada section \"g. Fibonacci\". Pada program dibuat fungsi \n",
        "fibbonaci untuk mendapatkan nilai akhir dari sebuah barisan fibonacci suatu bilangan. Input num akan diberikan untuk\n",
        "menunjukkan banyaknya bilangan dalam barisan fibonacci. Pertama dilakukan pengecekan jika panjang num == 0 maka akan\n",
        "return 0. Jika panjang num == 1 maka akan return 1. Jika tidak maka akan dilakukan fungsi rekursif untuk menambahkan nilai dari num-1 dan num-2 dari barisan fibonacci tersebut untuk mendapatkan nilai akhir dari bilangan fibonacci sebanyak num."
      ],
      "metadata": {
        "id": "7_9etYl-IF-z"
      }
    },
    {
      "cell_type": "code",
      "source": [
        "#fibonachi with recursion\n",
        "def fibonachi(num):\n",
        "    if num == 0:\n",
        "        return 0\n",
        "    elif num == 1:\n",
        "        return 1\n",
        "    else:\n",
        "        return fibonachi(num-1) + fibonachi(num-2)\n",
        "try:\n",
        "  input_num = int(input(\"Enter a number: \"))\n",
        "  print(fibonachi(input_num))\n",
        "except:\n",
        "  print(\"That's not a number\")"
      ],
      "metadata": {
        "colab": {
          "base_uri": "https://localhost:8080/"
        },
        "id": "zBIq8etRIZyo",
        "outputId": "e62a2a7a-d608-4600-be2b-284bf477ed16"
      },
      "execution_count": null,
      "outputs": [
        {
          "output_type": "stream",
          "name": "stdout",
          "text": [
            "Enter a number: 7\n",
            "13\n"
          ]
        }
      ]
    },
    {
      "cell_type": "markdown",
      "source": [
        "# Jawaban No. 3"
      ],
      "metadata": {
        "id": "qI06YWxKN0fk"
      }
    },
    {
      "cell_type": "markdown",
      "source": [
        "**Program Permutasi**\n",
        "\n",
        "Implementasikan algoritma tersebut dalam program komputer. Lalu tes dengan memberikan input integer n dan sebuah array A = [1, 2, 3, . . . , n]. Tes program dengan nilai n yang berbeda. Jelaskan apa yang menjadi output program Anda (atau algoritma di atas)! Selidiki apakah hasil pada soal (a) sama dengan output yang diberikan program Anda!"
      ],
      "metadata": {
        "id": "GF43Hu_WN36E"
      }
    },
    {
      "cell_type": "code",
      "source": [
        "#integer permutation with recursion\n",
        "def function_permutation():\n",
        "  input_array = input(\"Number of array: \").split()\n",
        "  if(input_jumlah_array == 0):\n",
        "    print(\"\")\n",
        "  else:\n",
        "      for i in range(input_jumlah_array):\n",
        "          input_array[i] = int(input_array[i])\n",
        "      def permutation(input_array, i = 0):\n",
        "          if(i == len(input_array)):\n",
        "              print(\" \".join(map(str, input_array)))\n",
        "          else:\n",
        "              for j in range(i, len(input_array)):\n",
        "                  input_array[i], input_array[j] = input_array[j], input_array[i]\n",
        "                  permutation(input_array, i + 1)\n",
        "                  input_array[i], input_array[j] = input_array[j], input_array[i]\n",
        "      permutation(input_array)\n",
        "\n",
        "try:\n",
        "  input_jumlah_array = int(input(\"Length of array: \"))\n",
        "  function_permutation()\n",
        "except:\n",
        "  print(\"That's not a number\")"
      ],
      "metadata": {
        "colab": {
          "base_uri": "https://localhost:8080/"
        },
        "id": "MmksEU4_OLNo",
        "outputId": "eaa21491-29ab-4a29-ed70-3e7a81060452"
      },
      "execution_count": null,
      "outputs": [
        {
          "output_type": "stream",
          "name": "stdout",
          "text": [
            "Length of array: 3\n",
            "Number of array: 1 2 3\n",
            "1 2 3\n",
            "1 3 2\n",
            "2 1 3\n",
            "2 3 1\n",
            "3 2 1\n",
            "3 1 2\n"
          ]
        }
      ]
    },
    {
      "cell_type": "markdown",
      "source": [
        "# Jawaban No. 4"
      ],
      "metadata": {
        "id": "PYMR5gMjj93r"
      }
    },
    {
      "cell_type": "markdown",
      "source": [
        "**Program Tower of Hanoi**\n",
        "\n",
        "Implementasikan dalam bahasa python algoritma rekursif Anda. Masukan program adalah banyaknya cakram (atau n) dan list nomor cakram pada setiap tower, yaitu “source”, “target”, “helper”. Output program adalah list cakram di ketiga tower “source”, “target”, “helper”."
      ],
      "metadata": {
        "id": "zWGM6YL3kBsz"
      }
    },
    {
      "cell_type": "code",
      "source": [
        "#tower of hanoi with recursion\n",
        "import time\n",
        "\n",
        "def hanoi(n, from_peg, to_peg, temp_peg):\n",
        "    if n == 1: # base case\n",
        "        print(\"Move disk 1 from peg\", from_peg, \"to peg\", to_peg) # move disk from from_peg to to_peg\n",
        "        return  # return from base case\n",
        "    hanoi(n-1, from_peg, temp_peg, to_peg) # move n-1 disks from from_peg to temp_peg\n",
        "    print(\"Move disk\", n, \"from peg\", from_peg, \"to peg\", to_peg) # move nth disk from from_peg to to_peg\n",
        "    hanoi(n-1, temp_peg, to_peg, from_peg) # move n-1 disks from temp_peg to to_peg\n",
        "\n",
        "try:\n",
        "  n = int(input(\"Enter number of disks: \")) # get number of disks\n",
        "  start = time.time() # start timer\n",
        "  hanoi(n, 'source', 'target', 'helper') # call hanoi function\n",
        "  end = time.time() # end timer\n",
        "  print(\"Total time:\", end - start) # print total time\n",
        "except:\n",
        "  print(\"That's not a number\")"
      ],
      "metadata": {
        "colab": {
          "base_uri": "https://localhost:8080/"
        },
        "id": "BgQb3drNkIPy",
        "outputId": "c59e1b53-48ec-4d66-9786-ed85ba23a318"
      },
      "execution_count": 1,
      "outputs": [
        {
          "output_type": "stream",
          "name": "stdout",
          "text": [
            "Enter number of disks: 2\n",
            "Move disk 1 from peg source to peg helper\n",
            "Move disk 2 from peg source to peg target\n",
            "Move disk 1 from peg helper to peg target\n",
            "Total time: 0.00026488304138183594\n"
          ]
        }
      ]
    }
  ]
}