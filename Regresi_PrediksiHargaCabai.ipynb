{
  "nbformat": 4,
  "nbformat_minor": 0,
  "metadata": {
    "colab": {
      "name": "Regresi_PrediksiHargaCabai.ipynb",
      "provenance": [],
      "toc_visible": true,
      "collapsed_sections": [],
      "authorship_tag": "ABX9TyPwht7PQT0c5W5/wRlo+UNG",
      "include_colab_link": true
    },
    "kernelspec": {
      "name": "python3",
      "display_name": "Python 3"
    },
    "language_info": {
      "name": "python"
    }
  },
  "cells": [
    {
      "cell_type": "markdown",
      "metadata": {
        "id": "view-in-github",
        "colab_type": "text"
      },
      "source": [
        "<a href=\"https://colab.research.google.com/github/IlyasHidayatR/Python_SimpleProgram/blob/main/Regresi_PrediksiHargaCabai.ipynb\" target=\"_parent\"><img src=\"https://colab.research.google.com/assets/colab-badge.svg\" alt=\"Open In Colab\"/></a>"
      ]
    },
    {
      "cell_type": "markdown",
      "source": [
        "# Identifikasi dataset"
      ],
      "metadata": {
        "id": "fMkoQ6AMq99L"
      }
    },
    {
      "cell_type": "markdown",
      "source": [
        "Dataset yang digunakan adalah data harga bahan pokok cabai merah pada setiap tahun di pasaran."
      ],
      "metadata": {
        "id": "g1_tqUr6rNA1"
      }
    },
    {
      "cell_type": "code",
      "execution_count": 7,
      "metadata": {
        "colab": {
          "base_uri": "https://localhost:8080/",
          "height": 238
        },
        "id": "DPpTgtPrqf_w",
        "outputId": "35112e44-4ba2-4e0d-a3c0-dda645522d99"
      },
      "outputs": [
        {
          "output_type": "execute_result",
          "data": {
            "text/plain": [
              "   Tahun  Harga Cabai (Rp/Kg)\n",
              "0   2015                30500\n",
              "1   2016                55150\n",
              "2   2017                96350\n",
              "3   2018                60000\n",
              "4   2019                30000\n",
              "5   2020                48000"
            ],
            "text/html": [
              "\n",
              "  <div id=\"df-47e68045-5f8c-4ead-aebb-0e25050b2752\">\n",
              "    <div class=\"colab-df-container\">\n",
              "      <div>\n",
              "<style scoped>\n",
              "    .dataframe tbody tr th:only-of-type {\n",
              "        vertical-align: middle;\n",
              "    }\n",
              "\n",
              "    .dataframe tbody tr th {\n",
              "        vertical-align: top;\n",
              "    }\n",
              "\n",
              "    .dataframe thead th {\n",
              "        text-align: right;\n",
              "    }\n",
              "</style>\n",
              "<table border=\"1\" class=\"dataframe\">\n",
              "  <thead>\n",
              "    <tr style=\"text-align: right;\">\n",
              "      <th></th>\n",
              "      <th>Tahun</th>\n",
              "      <th>Harga Cabai (Rp/Kg)</th>\n",
              "    </tr>\n",
              "  </thead>\n",
              "  <tbody>\n",
              "    <tr>\n",
              "      <th>0</th>\n",
              "      <td>2015</td>\n",
              "      <td>30500</td>\n",
              "    </tr>\n",
              "    <tr>\n",
              "      <th>1</th>\n",
              "      <td>2016</td>\n",
              "      <td>55150</td>\n",
              "    </tr>\n",
              "    <tr>\n",
              "      <th>2</th>\n",
              "      <td>2017</td>\n",
              "      <td>96350</td>\n",
              "    </tr>\n",
              "    <tr>\n",
              "      <th>3</th>\n",
              "      <td>2018</td>\n",
              "      <td>60000</td>\n",
              "    </tr>\n",
              "    <tr>\n",
              "      <th>4</th>\n",
              "      <td>2019</td>\n",
              "      <td>30000</td>\n",
              "    </tr>\n",
              "    <tr>\n",
              "      <th>5</th>\n",
              "      <td>2020</td>\n",
              "      <td>48000</td>\n",
              "    </tr>\n",
              "  </tbody>\n",
              "</table>\n",
              "</div>\n",
              "      <button class=\"colab-df-convert\" onclick=\"convertToInteractive('df-47e68045-5f8c-4ead-aebb-0e25050b2752')\"\n",
              "              title=\"Convert this dataframe to an interactive table.\"\n",
              "              style=\"display:none;\">\n",
              "        \n",
              "  <svg xmlns=\"http://www.w3.org/2000/svg\" height=\"24px\"viewBox=\"0 0 24 24\"\n",
              "       width=\"24px\">\n",
              "    <path d=\"M0 0h24v24H0V0z\" fill=\"none\"/>\n",
              "    <path d=\"M18.56 5.44l.94 2.06.94-2.06 2.06-.94-2.06-.94-.94-2.06-.94 2.06-2.06.94zm-11 1L8.5 8.5l.94-2.06 2.06-.94-2.06-.94L8.5 2.5l-.94 2.06-2.06.94zm10 10l.94 2.06.94-2.06 2.06-.94-2.06-.94-.94-2.06-.94 2.06-2.06.94z\"/><path d=\"M17.41 7.96l-1.37-1.37c-.4-.4-.92-.59-1.43-.59-.52 0-1.04.2-1.43.59L10.3 9.45l-7.72 7.72c-.78.78-.78 2.05 0 2.83L4 21.41c.39.39.9.59 1.41.59.51 0 1.02-.2 1.41-.59l7.78-7.78 2.81-2.81c.8-.78.8-2.07 0-2.86zM5.41 20L4 18.59l7.72-7.72 1.47 1.35L5.41 20z\"/>\n",
              "  </svg>\n",
              "      </button>\n",
              "      \n",
              "  <style>\n",
              "    .colab-df-container {\n",
              "      display:flex;\n",
              "      flex-wrap:wrap;\n",
              "      gap: 12px;\n",
              "    }\n",
              "\n",
              "    .colab-df-convert {\n",
              "      background-color: #E8F0FE;\n",
              "      border: none;\n",
              "      border-radius: 50%;\n",
              "      cursor: pointer;\n",
              "      display: none;\n",
              "      fill: #1967D2;\n",
              "      height: 32px;\n",
              "      padding: 0 0 0 0;\n",
              "      width: 32px;\n",
              "    }\n",
              "\n",
              "    .colab-df-convert:hover {\n",
              "      background-color: #E2EBFA;\n",
              "      box-shadow: 0px 1px 2px rgba(60, 64, 67, 0.3), 0px 1px 3px 1px rgba(60, 64, 67, 0.15);\n",
              "      fill: #174EA6;\n",
              "    }\n",
              "\n",
              "    [theme=dark] .colab-df-convert {\n",
              "      background-color: #3B4455;\n",
              "      fill: #D2E3FC;\n",
              "    }\n",
              "\n",
              "    [theme=dark] .colab-df-convert:hover {\n",
              "      background-color: #434B5C;\n",
              "      box-shadow: 0px 1px 3px 1px rgba(0, 0, 0, 0.15);\n",
              "      filter: drop-shadow(0px 1px 2px rgba(0, 0, 0, 0.3));\n",
              "      fill: #FFFFFF;\n",
              "    }\n",
              "  </style>\n",
              "\n",
              "      <script>\n",
              "        const buttonEl =\n",
              "          document.querySelector('#df-47e68045-5f8c-4ead-aebb-0e25050b2752 button.colab-df-convert');\n",
              "        buttonEl.style.display =\n",
              "          google.colab.kernel.accessAllowed ? 'block' : 'none';\n",
              "\n",
              "        async function convertToInteractive(key) {\n",
              "          const element = document.querySelector('#df-47e68045-5f8c-4ead-aebb-0e25050b2752');\n",
              "          const dataTable =\n",
              "            await google.colab.kernel.invokeFunction('convertToInteractive',\n",
              "                                                     [key], {});\n",
              "          if (!dataTable) return;\n",
              "\n",
              "          const docLinkHtml = 'Like what you see? Visit the ' +\n",
              "            '<a target=\"_blank\" href=https://colab.research.google.com/notebooks/data_table.ipynb>data table notebook</a>'\n",
              "            + ' to learn more about interactive tables.';\n",
              "          element.innerHTML = '';\n",
              "          dataTable['output_type'] = 'display_data';\n",
              "          await google.colab.output.renderOutput(dataTable, element);\n",
              "          const docLink = document.createElement('div');\n",
              "          docLink.innerHTML = docLinkHtml;\n",
              "          element.appendChild(docLink);\n",
              "        }\n",
              "      </script>\n",
              "    </div>\n",
              "  </div>\n",
              "  "
            ]
          },
          "metadata": {},
          "execution_count": 7
        }
      ],
      "source": [
        "import pandas as pd\n",
        "\n",
        "Chili = {'Tahun': [2015, 2016, 2017, 2018, 2019, 2020],\n",
        "         'Harga Cabai (Rp/Kg)' : [30500, 55150, 96350, 60000, 30000, 48000]}\n",
        "\n",
        "Chili_df = pd.DataFrame(Chili)\n",
        "Chili_df"
      ]
    },
    {
      "cell_type": "markdown",
      "source": [
        "# Visualisasi dataset cabai"
      ],
      "metadata": {
        "id": "n8SvdUM0tCWi"
      }
    },
    {
      "cell_type": "markdown",
      "source": [
        "Dalam hal ini, data akan divisualisasi ke dalam sebuah grafik untuk menentukan target"
      ],
      "metadata": {
        "id": "-0Q5-PAhtKsR"
      }
    },
    {
      "cell_type": "code",
      "source": [
        "import matplotlib.pyplot as plt\n",
        "\n",
        "Chili_df.plot.scatter(x='Tahun', y='Harga Cabai (Rp/Kg)')\n",
        "\n",
        "plt.title('Perbandingan tiap Tahun harga cabai')\n",
        "plt.xlabel('Tahun')\n",
        "plt.ylabel('Harga Cabai (Rp/Kg)')\n",
        "plt.grid(True)\n",
        "plt.show()"
      ],
      "metadata": {
        "colab": {
          "base_uri": "https://localhost:8080/",
          "height": 295
        },
        "id": "LNmq9cdLtV2T",
        "outputId": "7799d291-4b2b-44b3-cee3-e1abcaa908cf"
      },
      "execution_count": 8,
      "outputs": [
        {
          "output_type": "display_data",
          "data": {
            "text/plain": [
              "<Figure size 432x288 with 1 Axes>"
            ],
            "image/png": "[encoded data removed]"
          },
          "metadata": {
            "needs_background": "light"
          }
        }
      ]
    },
    {
      "cell_type": "markdown",
      "source": [
        "# Penyesuaian dataset menjadi 2 dimensi"
      ],
      "metadata": {
        "id": "kTH3IFcLyKMP"
      }
    },
    {
      "cell_type": "markdown",
      "source": [
        "Dalam langkah ini, dataset yang didapat akan disesuaikan dengan model yang akan dibuat"
      ],
      "metadata": {
        "id": "FYbzFPpEyQ-y"
      }
    },
    {
      "cell_type": "code",
      "source": [
        "import numpy as np\n",
        "\n",
        "x = np.array(Chili_df['Tahun'])\n",
        "y = np.array(Chili_df['Harga Cabai (Rp/Kg)'])\n",
        "\n",
        "print(f'x: {x}')\n",
        "print(f'y: {y}')"
      ],
      "metadata": {
        "colab": {
          "base_uri": "https://localhost:8080/"
        },
        "id": "PW9iVTQ5yYdT",
        "outputId": "f02873c8-f983-4ccf-ccef-ea360f02be51"
      },
      "execution_count": 9,
      "outputs": [
        {
          "output_type": "stream",
          "name": "stdout",
          "text": [
            "x: [2015 2016 2017 2018 2019 2020]\n",
            "y: [30500 55150 96350 60000 30000 48000]\n"
          ]
        }
      ]
    },
    {
      "cell_type": "code",
      "source": [
        "x = x.reshape(-1, 1)\n",
        "x.shape"
      ],
      "metadata": {
        "colab": {
          "base_uri": "https://localhost:8080/"
        },
        "id": "cQ9OKFUezL3U",
        "outputId": "e9d06b43-ab29-4b4c-c1a4-3c82c1cd004e"
      },
      "execution_count": 10,
      "outputs": [
        {
          "output_type": "execute_result",
          "data": {
            "text/plain": [
              "(6, 1)"
            ]
          },
          "metadata": {},
          "execution_count": 10
        }
      ]
    },
    {
      "cell_type": "code",
      "source": [
        "x"
      ],
      "metadata": {
        "colab": {
          "base_uri": "https://localhost:8080/"
        },
        "id": "dQmhvM1YzoTD",
        "outputId": "0aec6603-5266-4d8f-c0d2-570b274ce3c9"
      },
      "execution_count": 11,
      "outputs": [
        {
          "output_type": "execute_result",
          "data": {
            "text/plain": [
              "array([[2015],\n",
              "       [2016],\n",
              "       [2017],\n",
              "       [2018],\n",
              "       [2019],\n",
              "       [2020]])"
            ]
          },
          "metadata": {},
          "execution_count": 11
        }
      ]
    },
    {
      "cell_type": "markdown",
      "source": [
        "# Training Simple Linear Regression Model"
      ],
      "metadata": {
        "id": "wZF2Hpgo0F0m"
      }
    },
    {
      "cell_type": "markdown",
      "source": [
        "Dalam tahap ini, akan dibuat sebuah model menggunakan metode linear regresi"
      ],
      "metadata": {
        "id": "xxy03UIH0SPn"
      }
    },
    {
      "cell_type": "code",
      "source": [
        "from sklearn.linear_model import LinearRegression\n",
        "\n",
        "model = LinearRegression()\n",
        "model.fit(x, y)"
      ],
      "metadata": {
        "colab": {
          "base_uri": "https://localhost:8080/"
        },
        "id": "igLlZh2R0gT2",
        "outputId": "e7d5c7f5-313b-4541-bba6-85456a1fa9d6"
      },
      "execution_count": 12,
      "outputs": [
        {
          "output_type": "execute_result",
          "data": {
            "text/plain": [
              "LinearRegression()"
            ]
          },
          "metadata": {},
          "execution_count": 12
        }
      ]
    },
    {
      "cell_type": "markdown",
      "source": [
        "# Visualisasi Simple Linear Regression Model"
      ],
      "metadata": {
        "id": "-T85Q7cW1Odt"
      }
    },
    {
      "cell_type": "markdown",
      "source": [
        "Dalam tahap ini, akan menampilkan visualisi model yang telah dibuat dengan menggunakana dataset sebelumnya"
      ],
      "metadata": {
        "id": "djQoIv211ZHy"
      }
    },
    {
      "cell_type": "code",
      "source": [
        "x_vis = np.array([2015, 2025]).reshape(-1, 1)\n",
        "y_vis = model.predict(x_vis)"
      ],
      "metadata": {
        "id": "SBexjwTY1mdQ"
      },
      "execution_count": 13,
      "outputs": []
    },
    {
      "cell_type": "code",
      "source": [
        "plt.scatter(x, y)\n",
        "plt.plot(x_vis, y_vis, '-r')\n",
        "\n",
        "plt.title('Perbandingan tiap Tahun harga cabai')\n",
        "plt.xlabel('Tahun')\n",
        "plt.ylabel('Harga Cabai (Rp/Kg)')\n",
        "plt.xlim(2014, 2023)\n",
        "plt.grid(True)\n",
        "plt.show()"
      ],
      "metadata": {
        "colab": {
          "base_uri": "https://localhost:8080/",
          "height": 295
        },
        "id": "akLVMvqB2CK8",
        "outputId": "b0828a0f-d04d-4658-bc4d-e03253c71676"
      },
      "execution_count": 14,
      "outputs": [
        {
          "output_type": "display_data",
          "data": {
            "text/plain": [
              "<Figure size 432x288 with 1 Axes>"
            ],
            "image/png": "[encoded data removed]"
          },
          "metadata": {
            "needs_background": "light"
          }
        }
      ]
    },
    {
      "cell_type": "markdown",
      "source": [
        "Dalam grafik, selanjutnya adalah mencari nilai intercept dan slope yang akan menjadi acuan perhitungan prediksi harga cabai"
      ],
      "metadata": {
        "id": "C1BVL4Nh7uh2"
      }
    },
    {
      "cell_type": "code",
      "source": [
        "print(f'intercept: {model.intercept_}')\n",
        "print(f'slope: {model.coef_}')"
      ],
      "metadata": {
        "colab": {
          "base_uri": "https://localhost:8080/"
        },
        "id": "q3EMpi8p3-Jm",
        "outputId": "9c1e4fb5-2878-4516-cfd5-ae35290a2cbe"
      },
      "execution_count": 15,
      "outputs": [
        {
          "output_type": "stream",
          "name": "stdout",
          "text": [
            "intercept: 1454054.7619047614\n",
            "slope: [-694.28571429]\n"
          ]
        }
      ]
    },
    {
      "cell_type": "markdown",
      "source": [
        "# Prediksi harga cabai di tahun berikutnya"
      ],
      "metadata": {
        "id": "IZK9-wUS5D9_"
      }
    },
    {
      "cell_type": "markdown",
      "source": [
        "Pada tahap ini, akan dilakukan uji coba prediksi cabai pada tahun 2021 dan 2022"
      ],
      "metadata": {
        "id": "f94bxnvQ5Lwo"
      }
    },
    {
      "cell_type": "code",
      "source": [
        "tahun_chili = np.array([2021, 2022]).reshape(-1, 1)\n",
        "tahun_chili"
      ],
      "metadata": {
        "colab": {
          "base_uri": "https://localhost:8080/"
        },
        "id": "Qm2Pkvxa5TjG",
        "outputId": "77b6bfa4-b8cc-4cc7-c67c-2654e36e8222"
      },
      "execution_count": 16,
      "outputs": [
        {
          "output_type": "execute_result",
          "data": {
            "text/plain": [
              "array([[2021],\n",
              "       [2022]])"
            ]
          },
          "metadata": {},
          "execution_count": 16
        }
      ]
    },
    {
      "cell_type": "code",
      "source": [
        "prediksi_harga = model.predict(tahun_chili)\n",
        "prediksi_harga"
      ],
      "metadata": {
        "colab": {
          "base_uri": "https://localhost:8080/"
        },
        "id": "5t12XoaD5kX3",
        "outputId": "85d71c07-fa79-4dbf-c2d6-08874aca2b05"
      },
      "execution_count": 17,
      "outputs": [
        {
          "output_type": "execute_result",
          "data": {
            "text/plain": [
              "array([50903.33333333, 50209.04761905])"
            ]
          },
          "metadata": {},
          "execution_count": 17
        }
      ]
    },
    {
      "cell_type": "code",
      "source": [
        "for chl, hrg in zip(tahun_chili, prediksi_harga):\n",
        "  print(f'Tahun : {chl} | prediksi harga : {hrg}')"
      ],
      "metadata": {
        "colab": {
          "base_uri": "https://localhost:8080/"
        },
        "id": "1opoS-qV5yqi",
        "outputId": "b743f493-03e9-49d2-d017-751630790589"
      },
      "execution_count": 18,
      "outputs": [
        {
          "output_type": "stream",
          "name": "stdout",
          "text": [
            "Tahun : [2021] | prediksi harga : 50903.333333333256\n",
            "Tahun : [2022] | prediksi harga : 50209.047619047575\n"
          ]
        }
      ]
    },
    {
      "cell_type": "code",
      "source": [
        "tahun_chili = tahun_chili.flatten()\n",
        "\n",
        "plt.scatter(tahun_chili, prediksi_harga)\n",
        "\n",
        "plt.title('Prediksi harga cabai 2 tahun ke depan')\n",
        "plt.xlabel('Tahun')\n",
        "plt.ylabel('Harga Cabai (Rp/Kg)')\n",
        "plt.xlim(2020, 2025)\n",
        "plt.grid(True)\n",
        "plt.show()"
      ],
      "metadata": {
        "colab": {
          "base_uri": "https://localhost:8080/",
          "height": 295
        },
        "id": "KvjSRq1aeaPz",
        "outputId": "8d94994d-8faa-48fa-d5d7-899919cca8db"
      },
      "execution_count": 19,
      "outputs": [
        {
          "output_type": "display_data",
          "data": {
            "text/plain": [
              "<Figure size 432x288 with 1 Axes>"
            ],
            "image/png": "[encoded data removed]"
          },
          "metadata": {
            "needs_background": "light"
          }
        }
      ]
    },
    {
      "cell_type": "markdown",
      "source": [
        "# Perhitungan Error Prediksi dengan Nilai Asli\n",
        "\n",
        "Pada tahap ini, akan dibandingkan harga prediksi cabai merah dengan data harga yang sebenarnya. Selanjutnya akan dihitung nilai dari *Mean Absolute Error* pada data harga cabai prediksi dengan data harga cabai asli"
      ],
      "metadata": {
        "id": "WJ51p3AitEt7"
      }
    },
    {
      "cell_type": "code",
      "source": [
        "data_asli = {'Tahun prediksi': [2021, 2022],\n",
        "             'Harga cabai asli (Rp/Kg)' : [44415, 41540]}\n",
        "\n",
        "Asli_df = pd.DataFrame(data_asli)\n",
        "Asli_df"
      ],
      "metadata": {
        "colab": {
          "base_uri": "https://localhost:8080/",
          "height": 112
        },
        "id": "kW8cDu73zTcG",
        "outputId": "cfae2852-efa9-4879-b4ed-daf02294902e"
      },
      "execution_count": 20,
      "outputs": [
        {
          "output_type": "execute_result",
          "data": {
            "text/plain": [
              "   Tahun prediksi  Harga cabai asli (Rp/Kg)\n",
              "0            2021                     44415\n",
              "1            2022                     41540"
            ],
            "text/html": [
              "\n",
              "  <div id=\"df-2b7bc64c-903a-4aa6-8b13-f9363e5eefc8\">\n",
              "    <div class=\"colab-df-container\">\n",
              "      <div>\n",
              "<style scoped>\n",
              "    .dataframe tbody tr th:only-of-type {\n",
              "        vertical-align: middle;\n",
              "    }\n",
              "\n",
              "    .dataframe tbody tr th {\n",
              "        vertical-align: top;\n",
              "    }\n",
              "\n",
              "    .dataframe thead th {\n",
              "        text-align: right;\n",
              "    }\n",
              "</style>\n",
              "<table border=\"1\" class=\"dataframe\">\n",
              "  <thead>\n",
              "    <tr style=\"text-align: right;\">\n",
              "      <th></th>\n",
              "      <th>Tahun prediksi</th>\n",
              "      <th>Harga cabai asli (Rp/Kg)</th>\n",
              "    </tr>\n",
              "  </thead>\n",
              "  <tbody>\n",
              "    <tr>\n",
              "      <th>0</th>\n",
              "      <td>2021</td>\n",
              "      <td>44415</td>\n",
              "    </tr>\n",
              "    <tr>\n",
              "      <th>1</th>\n",
              "      <td>2022</td>\n",
              "      <td>41540</td>\n",
              "    </tr>\n",
              "  </tbody>\n",
              "</table>\n",
              "</div>\n",
              "      <button class=\"colab-df-convert\" onclick=\"convertToInteractive('df-2b7bc64c-903a-4aa6-8b13-f9363e5eefc8')\"\n",
              "              title=\"Convert this dataframe to an interactive table.\"\n",
              "              style=\"display:none;\">\n",
              "        \n",
              "  <svg xmlns=\"http://www.w3.org/2000/svg\" height=\"24px\"viewBox=\"0 0 24 24\"\n",
              "       width=\"24px\">\n",
              "    <path d=\"M0 0h24v24H0V0z\" fill=\"none\"/>\n",
              "    <path d=\"M18.56 5.44l.94 2.06.94-2.06 2.06-.94-2.06-.94-.94-2.06-.94 2.06-2.06.94zm-11 1L8.5 8.5l.94-2.06 2.06-.94-2.06-.94L8.5 2.5l-.94 2.06-2.06.94zm10 10l.94 2.06.94-2.06 2.06-.94-2.06-.94-.94-2.06-.94 2.06-2.06.94z\"/><path d=\"M17.41 7.96l-1.37-1.37c-.4-.4-.92-.59-1.43-.59-.52 0-1.04.2-1.43.59L10.3 9.45l-7.72 7.72c-.78.78-.78 2.05 0 2.83L4 21.41c.39.39.9.59 1.41.59.51 0 1.02-.2 1.41-.59l7.78-7.78 2.81-2.81c.8-.78.8-2.07 0-2.86zM5.41 20L4 18.59l7.72-7.72 1.47 1.35L5.41 20z\"/>\n",
              "  </svg>\n",
              "      </button>\n",
              "      \n",
              "  <style>\n",
              "    .colab-df-container {\n",
              "      display:flex;\n",
              "      flex-wrap:wrap;\n",
              "      gap: 12px;\n",
              "    }\n",
              "\n",
              "    .colab-df-convert {\n",
              "      background-color: #E8F0FE;\n",
              "      border: none;\n",
              "      border-radius: 50%;\n",
              "      cursor: pointer;\n",
              "      display: none;\n",
              "      fill: #1967D2;\n",
              "      height: 32px;\n",
              "      padding: 0 0 0 0;\n",
              "      width: 32px;\n",
              "    }\n",
              "\n",
              "    .colab-df-convert:hover {\n",
              "      background-color: #E2EBFA;\n",
              "      box-shadow: 0px 1px 2px rgba(60, 64, 67, 0.3), 0px 1px 3px 1px rgba(60, 64, 67, 0.15);\n",
              "      fill: #174EA6;\n",
              "    }\n",
              "\n",
              "    [theme=dark] .colab-df-convert {\n",
              "      background-color: #3B4455;\n",
              "      fill: #D2E3FC;\n",
              "    }\n",
              "\n",
              "    [theme=dark] .colab-df-convert:hover {\n",
              "      background-color: #434B5C;\n",
              "      box-shadow: 0px 1px 3px 1px rgba(0, 0, 0, 0.15);\n",
              "      filter: drop-shadow(0px 1px 2px rgba(0, 0, 0, 0.3));\n",
              "      fill: #FFFFFF;\n",
              "    }\n",
              "  </style>\n",
              "\n",
              "      <script>\n",
              "        const buttonEl =\n",
              "          document.querySelector('#df-2b7bc64c-903a-4aa6-8b13-f9363e5eefc8 button.colab-df-convert');\n",
              "        buttonEl.style.display =\n",
              "          google.colab.kernel.accessAllowed ? 'block' : 'none';\n",
              "\n",
              "        async function convertToInteractive(key) {\n",
              "          const element = document.querySelector('#df-2b7bc64c-903a-4aa6-8b13-f9363e5eefc8');\n",
              "          const dataTable =\n",
              "            await google.colab.kernel.invokeFunction('convertToInteractive',\n",
              "                                                     [key], {});\n",
              "          if (!dataTable) return;\n",
              "\n",
              "          const docLinkHtml = 'Like what you see? Visit the ' +\n",
              "            '<a target=\"_blank\" href=https://colab.research.google.com/notebooks/data_table.ipynb>data table notebook</a>'\n",
              "            + ' to learn more about interactive tables.';\n",
              "          element.innerHTML = '';\n",
              "          dataTable['output_type'] = 'display_data';\n",
              "          await google.colab.output.renderOutput(dataTable, element);\n",
              "          const docLink = document.createElement('div');\n",
              "          docLink.innerHTML = docLinkHtml;\n",
              "          element.appendChild(docLink);\n",
              "        }\n",
              "      </script>\n",
              "    </div>\n",
              "  </div>\n",
              "  "
            ]
          },
          "metadata": {},
          "execution_count": 20
        }
      ]
    },
    {
      "cell_type": "code",
      "source": [
        "harga_pre = np.array(prediksi_harga)\n",
        "pre_harga = np.array(Asli_df['Harga cabai asli (Rp/Kg)'])\n",
        "\n",
        "err = (pre_harga - harga_pre)\n",
        "\n",
        "for chl, akt, hrg, er in zip(tahun_chili, pre_harga, prediksi_harga, err):\n",
        "  print(f'Tahun : {chl} | Harga Aktual: {akt} | prediksi harga : {hrg} | Error Prediksi: {er}')"
      ],
      "metadata": {
        "colab": {
          "base_uri": "https://localhost:8080/"
        },
        "id": "TtSe3G0BtdOW",
        "outputId": "bfc6cc79-74ae-458e-9f92-789eb9daadcf"
      },
      "execution_count": 21,
      "outputs": [
        {
          "output_type": "stream",
          "name": "stdout",
          "text": [
            "Tahun : 2021 | Harga Aktual: 44415 | prediksi harga : 50903.333333333256 | Error Prediksi: -6488.333333333256\n",
            "Tahun : 2022 | Harga Aktual: 41540 | prediksi harga : 50209.047619047575 | Error Prediksi: -8669.047619047575\n"
          ]
        }
      ]
    },
    {
      "cell_type": "code",
      "source": [
        "def jumlah_total(daftar_err):\n",
        "    z=0;\n",
        "    x = daftar_err\n",
        "    jml = len(x)\n",
        "\n",
        "    for i in range(jml):\n",
        "        y = x[i]\n",
        "        z+=y\n",
        "   \n",
        "    return z\n",
        "\n",
        "MEA = abs(jumlah_total(err))/len(err)\n",
        "print(f'Mean Absolute Error : {MEA}')"
      ],
      "metadata": {
        "colab": {
          "base_uri": "https://localhost:8080/"
        },
        "id": "5kB5Zb42mMU0",
        "outputId": "30baec73-c250-4a59-9484-a0adbb2881c1"
      },
      "execution_count": 31,
      "outputs": [
        {
          "output_type": "stream",
          "name": "stdout",
          "text": [
            "Mean Absolute Error : 7578.690476190415\n"
          ]
        }
      ]
    },
    {
      "cell_type": "markdown",
      "source": [
        "Pada analisis di atas dapat dikatakan bahwa dengan memperhitungkan *Mean Absolute Error* (MEA) cukup tinggi yaitu sebesar 7578.690476190415"
      ],
      "metadata": {
        "id": "7HSE2V4zouzm"
      }
    },
    {
      "cell_type": "markdown",
      "source": [
        "# Evaluasi Simple Linear Regression Model"
      ],
      "metadata": {
        "id": "O8rFkuGlU_wp"
      }
    },
    {
      "cell_type": "markdown",
      "source": [
        "**Training & Testing Dataset**\n",
        "\n",
        "Pada bagian ini akan dilakukan evaluasi terhadap model menggunakan data tes dan data training"
      ],
      "metadata": {
        "id": "ZOFtQI7HVJp9"
      }
    },
    {
      "cell_type": "code",
      "source": [
        "import numpy as np\n",
        "\n",
        "x_train = np.array([2015, 2016, 2017, 2018, 2019, 2020]).reshape(-1, 1)\n",
        "y_train = np.array([30500, 55150, 96350, 60000, 30000, 48000])\n",
        "\n",
        "x_test = np.array([2021, 2022, 2023, 2024, 2025, 2026]).reshape(-1, 1)\n",
        "y_test = np.array([44415, 41540, 30500, 70000, 50000, 40000])"
      ],
      "metadata": {
        "id": "DvbokvySVmkS"
      },
      "execution_count": 22,
      "outputs": []
    },
    {
      "cell_type": "markdown",
      "source": [
        "**Training Simple Linear Regression Model**\n",
        "\n",
        "Pada bagian ini akan dibuat sebuah model baru menggunakan Linear Regression"
      ],
      "metadata": {
        "id": "lAKkK_rlXEIw"
      }
    },
    {
      "cell_type": "code",
      "source": [
        "model = LinearRegression()\n",
        "model.fit(x_train, y_train)"
      ],
      "metadata": {
        "colab": {
          "base_uri": "https://localhost:8080/"
        },
        "id": "-No1X412XXV2",
        "outputId": "70d95e84-663e-470c-a807-520600e5999d"
      },
      "execution_count": 23,
      "outputs": [
        {
          "output_type": "execute_result",
          "data": {
            "text/plain": [
              "LinearRegression()"
            ]
          },
          "metadata": {},
          "execution_count": 23
        }
      ]
    },
    {
      "cell_type": "markdown",
      "source": [
        "**Evaluasi Linear Regression dengan Coefficient of Determination atau R-squered**\n",
        "\n",
        "Pada bagian ini akan dilakukannya proses evaluasi model"
      ],
      "metadata": {
        "id": "HnPXs3rcXuXR"
      }
    },
    {
      "cell_type": "code",
      "source": [
        "from sklearn.metrics import r2_score\n",
        "\n",
        "y_pred = model.predict(x_test)\n",
        "\n",
        "r_squared = r2_score(y_test, y_pred)\n",
        "\n",
        "print(f'R-squered: {r_squared}')"
      ],
      "metadata": {
        "colab": {
          "base_uri": "https://localhost:8080/"
        },
        "id": "ZNSD9lCjYc6a",
        "outputId": "e752d377-2069-4d3a-e1bc-6b199cb33504"
      },
      "execution_count": 24,
      "outputs": [
        {
          "output_type": "stream",
          "name": "stdout",
          "text": [
            "R-squered: -0.10723920154525524\n"
          ]
        }
      ]
    },
    {
      "cell_type": "markdown",
      "source": [
        "Pada hasil diatas dapat dikatakan bahwa model yang dibuat buruk karena hasil perhitungan evaluasi model menggunakan R-squered adalah negatif"
      ],
      "metadata": {
        "id": "xb2V9Ad4aBjQ"
      }
    }
  ]
}