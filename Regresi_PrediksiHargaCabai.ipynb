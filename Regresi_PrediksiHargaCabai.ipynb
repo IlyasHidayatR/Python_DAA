{
  "nbformat": 4,
  "nbformat_minor": 0,
  "metadata": {
    "colab": {
      "name": "Regresi_PrediksiHargaCabai.ipynb",
      "provenance": [],
      "toc_visible": true,
      "collapsed_sections": [],
      "authorship_tag": "ABX9TyOsPgsVBJ+L0f4YDNppca8C",
      "include_colab_link": true
    },
    "kernelspec": {
      "name": "python3",
      "display_name": "Python 3"
    },
    "language_info": {
      "name": "python"
    }
  },
  "cells": [
    {
      "cell_type": "markdown",
      "metadata": {
        "id": "view-in-github",
        "colab_type": "text"
      },
      "source": [
        "<a href=\"https://colab.research.google.com/github/IlyasHidayatR/Python_SimpleProgram/blob/main/Regresi_PrediksiHargaCabai.ipynb\" target=\"_parent\"><img src=\"https://colab.research.google.com/assets/colab-badge.svg\" alt=\"Open In Colab\"/></a>"
      ]
    },
    {
      "cell_type": "markdown",
      "source": [
        "# Identifikasi dataset"
      ],
      "metadata": {
        "id": "fMkoQ6AMq99L"
      }
    },
    {
      "cell_type": "markdown",
      "source": [
        "Dataset yang digunakan adalah data harga bahan pokok cabai merah pada setiap tahun di pasaran."
      ],
      "metadata": {
        "id": "g1_tqUr6rNA1"
      }
    },
    {
      "cell_type": "code",
      "execution_count": null,
      "metadata": {
        "colab": {
          "base_uri": "https://localhost:8080/",
          "height": 238
        },
        "id": "DPpTgtPrqf_w",
        "outputId": "e44efcae-925e-44e4-ef85-174a2e9ef795"
      },
      "outputs": [
        {
          "output_type": "execute_result",
          "data": {
            "text/plain": [
              "   Tahun  Harga Cabai (Rp/Kg)\n",
              "0   2017               120000\n",
              "1   2018                60000\n",
              "2   2019                50000\n",
              "3   2020                60000\n",
              "4   2021                90000\n",
              "5   2022                70000"
            ],
            "text/html": [
              "\n",
              "  <div id=\"df-331247ee-c69b-40fd-8d8f-54d1e3a6ada9\">\n",
              "    <div class=\"colab-df-container\">\n",
              "      <div>\n",
              "<style scoped>\n",
              "    .dataframe tbody tr th:only-of-type {\n",
              "        vertical-align: middle;\n",
              "    }\n",
              "\n",
              "    .dataframe tbody tr th {\n",
              "        vertical-align: top;\n",
              "    }\n",
              "\n",
              "    .dataframe thead th {\n",
              "        text-align: right;\n",
              "    }\n",
              "</style>\n",
              "<table border=\"1\" class=\"dataframe\">\n",
              "  <thead>\n",
              "    <tr style=\"text-align: right;\">\n",
              "      <th></th>\n",
              "      <th>Tahun</th>\n",
              "      <th>Harga Cabai (Rp/Kg)</th>\n",
              "    </tr>\n",
              "  </thead>\n",
              "  <tbody>\n",
              "    <tr>\n",
              "      <th>0</th>\n",
              "      <td>2017</td>\n",
              "      <td>120000</td>\n",
              "    </tr>\n",
              "    <tr>\n",
              "      <th>1</th>\n",
              "      <td>2018</td>\n",
              "      <td>60000</td>\n",
              "    </tr>\n",
              "    <tr>\n",
              "      <th>2</th>\n",
              "      <td>2019</td>\n",
              "      <td>50000</td>\n",
              "    </tr>\n",
              "    <tr>\n",
              "      <th>3</th>\n",
              "      <td>2020</td>\n",
              "      <td>60000</td>\n",
              "    </tr>\n",
              "    <tr>\n",
              "      <th>4</th>\n",
              "      <td>2021</td>\n",
              "      <td>90000</td>\n",
              "    </tr>\n",
              "    <tr>\n",
              "      <th>5</th>\n",
              "      <td>2022</td>\n",
              "      <td>70000</td>\n",
              "    </tr>\n",
              "  </tbody>\n",
              "</table>\n",
              "</div>\n",
              "      <button class=\"colab-df-convert\" onclick=\"convertToInteractive('df-331247ee-c69b-40fd-8d8f-54d1e3a6ada9')\"\n",
              "              title=\"Convert this dataframe to an interactive table.\"\n",
              "              style=\"display:none;\">\n",
              "        \n",
              "  <svg xmlns=\"http://www.w3.org/2000/svg\" height=\"24px\"viewBox=\"0 0 24 24\"\n",
              "       width=\"24px\">\n",
              "    <path d=\"M0 0h24v24H0V0z\" fill=\"none\"/>\n",
              "    <path d=\"M18.56 5.44l.94 2.06.94-2.06 2.06-.94-2.06-.94-.94-2.06-.94 2.06-2.06.94zm-11 1L8.5 8.5l.94-2.06 2.06-.94-2.06-.94L8.5 2.5l-.94 2.06-2.06.94zm10 10l.94 2.06.94-2.06 2.06-.94-2.06-.94-.94-2.06-.94 2.06-2.06.94z\"/><path d=\"M17.41 7.96l-1.37-1.37c-.4-.4-.92-.59-1.43-.59-.52 0-1.04.2-1.43.59L10.3 9.45l-7.72 7.72c-.78.78-.78 2.05 0 2.83L4 21.41c.39.39.9.59 1.41.59.51 0 1.02-.2 1.41-.59l7.78-7.78 2.81-2.81c.8-.78.8-2.07 0-2.86zM5.41 20L4 18.59l7.72-7.72 1.47 1.35L5.41 20z\"/>\n",
              "  </svg>\n",
              "      </button>\n",
              "      \n",
              "  <style>\n",
              "    .colab-df-container {\n",
              "      display:flex;\n",
              "      flex-wrap:wrap;\n",
              "      gap: 12px;\n",
              "    }\n",
              "\n",
              "    .colab-df-convert {\n",
              "      background-color: #E8F0FE;\n",
              "      border: none;\n",
              "      border-radius: 50%;\n",
              "      cursor: pointer;\n",
              "      display: none;\n",
              "      fill: #1967D2;\n",
              "      height: 32px;\n",
              "      padding: 0 0 0 0;\n",
              "      width: 32px;\n",
              "    }\n",
              "\n",
              "    .colab-df-convert:hover {\n",
              "      background-color: #E2EBFA;\n",
              "      box-shadow: 0px 1px 2px rgba(60, 64, 67, 0.3), 0px 1px 3px 1px rgba(60, 64, 67, 0.15);\n",
              "      fill: #174EA6;\n",
              "    }\n",
              "\n",
              "    [theme=dark] .colab-df-convert {\n",
              "      background-color: #3B4455;\n",
              "      fill: #D2E3FC;\n",
              "    }\n",
              "\n",
              "    [theme=dark] .colab-df-convert:hover {\n",
              "      background-color: #434B5C;\n",
              "      box-shadow: 0px 1px 3px 1px rgba(0, 0, 0, 0.15);\n",
              "      filter: drop-shadow(0px 1px 2px rgba(0, 0, 0, 0.3));\n",
              "      fill: #FFFFFF;\n",
              "    }\n",
              "  </style>\n",
              "\n",
              "      <script>\n",
              "        const buttonEl =\n",
              "          document.querySelector('#df-331247ee-c69b-40fd-8d8f-54d1e3a6ada9 button.colab-df-convert');\n",
              "        buttonEl.style.display =\n",
              "          google.colab.kernel.accessAllowed ? 'block' : 'none';\n",
              "\n",
              "        async function convertToInteractive(key) {\n",
              "          const element = document.querySelector('#df-331247ee-c69b-40fd-8d8f-54d1e3a6ada9');\n",
              "          const dataTable =\n",
              "            await google.colab.kernel.invokeFunction('convertToInteractive',\n",
              "                                                     [key], {});\n",
              "          if (!dataTable) return;\n",
              "\n",
              "          const docLinkHtml = 'Like what you see? Visit the ' +\n",
              "            '<a target=\"_blank\" href=https://colab.research.google.com/notebooks/data_table.ipynb>data table notebook</a>'\n",
              "            + ' to learn more about interactive tables.';\n",
              "          element.innerHTML = '';\n",
              "          dataTable['output_type'] = 'display_data';\n",
              "          await google.colab.output.renderOutput(dataTable, element);\n",
              "          const docLink = document.createElement('div');\n",
              "          docLink.innerHTML = docLinkHtml;\n",
              "          element.appendChild(docLink);\n",
              "        }\n",
              "      </script>\n",
              "    </div>\n",
              "  </div>\n",
              "  "
            ]
          },
          "metadata": {},
          "execution_count": 1
        }
      ],
      "source": [
        "import pandas as pd\n",
        "\n",
        "Chili = {'Tahun': [2017, 2018, 2019, 2020, 2021, 2022],\n",
        "         'Harga Cabai (Rp/Kg)' : [120000, 60000, 50000, 60000, 90000, 70000]}\n",
        "\n",
        "Chili_df = pd.DataFrame(Chili)\n",
        "Chili_df"
      ]
    },
    {
      "cell_type": "markdown",
      "source": [
        "# Visualisasi dataset cabai"
      ],
      "metadata": {
        "id": "n8SvdUM0tCWi"
      }
    },
    {
      "cell_type": "markdown",
      "source": [
        "Dalam hal ini, data akan divisualisasi ke dalam sebuah grafik untuk menentukan target"
      ],
      "metadata": {
        "id": "-0Q5-PAhtKsR"
      }
    },
    {
      "cell_type": "code",
      "source": [
        "import matplotlib.pyplot as plt\n",
        "\n",
        "Chili_df.plot.scatter(x='Tahun', y='Harga Cabai (Rp/Kg)')\n",
        "\n",
        "plt.title('Perbandingan tiap Tahun harga cabai')\n",
        "plt.xlabel('Tahun')\n",
        "plt.ylabel('Harga Cabai (Rp/Kg)')\n",
        "plt.grid(True)\n",
        "plt.show()"
      ],
      "metadata": {
        "colab": {
          "base_uri": "https://localhost:8080/",
          "height": 295
        },
        "id": "LNmq9cdLtV2T",
        "outputId": "472d2428-4059-45b2-cfd9-4971121b6982"
      },
      "execution_count": null,
      "outputs": [
        {
          "output_type": "display_data",
          "data": {
            "text/plain": [
              "<Figure size 432x288 with 1 Axes>"
            ],
            "image/png": "[encoded data removed]"
          },
          "metadata": {
            "needs_background": "light"
          }
        }
      ]
    },
    {
      "cell_type": "markdown",
      "source": [
        "# Penyesuaian dataset menjadi 2 dimensi"
      ],
      "metadata": {
        "id": "kTH3IFcLyKMP"
      }
    },
    {
      "cell_type": "markdown",
      "source": [
        "Dalam langkah ini, dataset yang didapat akan disesuaikan dengan model yang akan dibuat"
      ],
      "metadata": {
        "id": "FYbzFPpEyQ-y"
      }
    },
    {
      "cell_type": "code",
      "source": [
        "import numpy as np\n",
        "\n",
        "x = np.array(Chili_df['Tahun'])\n",
        "y = np.array(Chili_df['Harga Cabai (Rp/Kg)'])\n",
        "\n",
        "print(f'x: {x}')\n",
        "print(f'y: {y}')"
      ],
      "metadata": {
        "colab": {
          "base_uri": "https://localhost:8080/"
        },
        "id": "PW9iVTQ5yYdT",
        "outputId": "f646fc89-dec1-4903-8d33-88c61164f1aa"
      },
      "execution_count": null,
      "outputs": [
        {
          "output_type": "stream",
          "name": "stdout",
          "text": [
            "x: [2017 2018 2019 2020 2021 2022]\n",
            "y: [120000  60000  50000  60000  90000  70000]\n"
          ]
        }
      ]
    },
    {
      "cell_type": "code",
      "source": [
        "x = x.reshape(-1, 1)\n",
        "x.shape"
      ],
      "metadata": {
        "colab": {
          "base_uri": "https://localhost:8080/"
        },
        "id": "cQ9OKFUezL3U",
        "outputId": "616f8f1a-23f7-4da1-89ed-6ab0af5bfcaf"
      },
      "execution_count": null,
      "outputs": [
        {
          "output_type": "execute_result",
          "data": {
            "text/plain": [
              "(6, 1)"
            ]
          },
          "metadata": {},
          "execution_count": 4
        }
      ]
    },
    {
      "cell_type": "code",
      "source": [
        "x"
      ],
      "metadata": {
        "colab": {
          "base_uri": "https://localhost:8080/"
        },
        "id": "dQmhvM1YzoTD",
        "outputId": "d08e2624-76f4-41a4-87c3-5c747d3af3db"
      },
      "execution_count": null,
      "outputs": [
        {
          "output_type": "execute_result",
          "data": {
            "text/plain": [
              "array([[2017],\n",
              "       [2018],\n",
              "       [2019],\n",
              "       [2020],\n",
              "       [2021],\n",
              "       [2022]])"
            ]
          },
          "metadata": {},
          "execution_count": 5
        }
      ]
    },
    {
      "cell_type": "markdown",
      "source": [
        "# Training Simple Linear Regression Model"
      ],
      "metadata": {
        "id": "wZF2Hpgo0F0m"
      }
    },
    {
      "cell_type": "markdown",
      "source": [
        "Dalam tahap ini, akan dibuat sebuah model menggunakan metode linear regresi"
      ],
      "metadata": {
        "id": "xxy03UIH0SPn"
      }
    },
    {
      "cell_type": "code",
      "source": [
        "from sklearn.linear_model import LinearRegression\n",
        "\n",
        "model = LinearRegression()\n",
        "model.fit(x, y)"
      ],
      "metadata": {
        "colab": {
          "base_uri": "https://localhost:8080/"
        },
        "id": "igLlZh2R0gT2",
        "outputId": "53b09c51-bede-468c-8bf1-8e9067ef193b"
      },
      "execution_count": null,
      "outputs": [
        {
          "output_type": "execute_result",
          "data": {
            "text/plain": [
              "LinearRegression()"
            ]
          },
          "metadata": {},
          "execution_count": 6
        }
      ]
    },
    {
      "cell_type": "markdown",
      "source": [
        "# Visualisasi Simple Linear Regression Model"
      ],
      "metadata": {
        "id": "-T85Q7cW1Odt"
      }
    },
    {
      "cell_type": "markdown",
      "source": [
        "Dalam tahap ini, akan menampilkan visualisi model yang telah dibuat dengan menggunakana dataset sebelumnya"
      ],
      "metadata": {
        "id": "djQoIv211ZHy"
      }
    },
    {
      "cell_type": "code",
      "source": [
        "x_vis = np.array([2015, 2025]).reshape(-1, 1)\n",
        "y_vis = model.predict(x_vis)"
      ],
      "metadata": {
        "id": "SBexjwTY1mdQ"
      },
      "execution_count": null,
      "outputs": []
    },
    {
      "cell_type": "code",
      "source": [
        "plt.scatter(x, y)\n",
        "plt.plot(x_vis, y_vis, '-r')\n",
        "\n",
        "plt.title('Perbandingan tiap Tahun harga cabai')\n",
        "plt.xlabel('Tahun')\n",
        "plt.ylabel('Harga Cabai (Rp/Kg)')\n",
        "plt.grid(True)\n",
        "plt.show()"
      ],
      "metadata": {
        "colab": {
          "base_uri": "https://localhost:8080/",
          "height": 295
        },
        "id": "akLVMvqB2CK8",
        "outputId": "5352c031-66cb-4226-c57e-185594212d09"
      },
      "execution_count": null,
      "outputs": [
        {
          "output_type": "display_data",
          "data": {
            "text/plain": [
              "<Figure size 432x288 with 1 Axes>"
            ],
            "image/png": "[encoded data removed]"
          },
          "metadata": {
            "needs_background": "light"
          }
        }
      ]
    },
    {
      "cell_type": "markdown",
      "source": [
        "Dalam grafik, selanjutnya adalah mencari nilai intercept dan slope yang akan menjadi acuan perhitungan prediksi harga cabai"
      ],
      "metadata": {
        "id": "C1BVL4Nh7uh2"
      }
    },
    {
      "cell_type": "code",
      "source": [
        "print(f'intercept: {model.intercept_}')\n",
        "print(f'slope: {model.coef_}')"
      ],
      "metadata": {
        "colab": {
          "base_uri": "https://localhost:8080/"
        },
        "id": "q3EMpi8p3-Jm",
        "outputId": "b14699d5-b569-4db1-cfd1-601e2da3f5ab"
      },
      "execution_count": null,
      "outputs": [
        {
          "output_type": "stream",
          "name": "stdout",
          "text": [
            "intercept: 8730000.000000002\n",
            "slope: [-4285.71428571]\n"
          ]
        }
      ]
    },
    {
      "cell_type": "markdown",
      "source": [
        "# Prediksi harga cabai di tahun berikutnya"
      ],
      "metadata": {
        "id": "IZK9-wUS5D9_"
      }
    },
    {
      "cell_type": "markdown",
      "source": [
        "Pada tahap ini, akan dilakukan uji coba prediksi cabai pada tahun 2021 dan 2022"
      ],
      "metadata": {
        "id": "f94bxnvQ5Lwo"
      }
    },
    {
      "cell_type": "code",
      "source": [
        "tahun_chili = np.array([2023, 2024, 2025, 2026]).reshape(-1, 1)\n",
        "tahun_chili"
      ],
      "metadata": {
        "colab": {
          "base_uri": "https://localhost:8080/"
        },
        "id": "Qm2Pkvxa5TjG",
        "outputId": "666613cc-0adf-40af-86da-255f2804e920"
      },
      "execution_count": 25,
      "outputs": [
        {
          "output_type": "execute_result",
          "data": {
            "text/plain": [
              "array([[2023],\n",
              "       [2024],\n",
              "       [2025],\n",
              "       [2026]])"
            ]
          },
          "metadata": {},
          "execution_count": 25
        }
      ]
    },
    {
      "cell_type": "code",
      "source": [
        "prediksi_harga = model.predict(tahun_chili)\n",
        "prediksi_harga"
      ],
      "metadata": {
        "colab": {
          "base_uri": "https://localhost:8080/"
        },
        "id": "5t12XoaD5kX3",
        "outputId": "ed5ce50c-eb09-4e95-a840-6d074110db92"
      },
      "execution_count": 26,
      "outputs": [
        {
          "output_type": "execute_result",
          "data": {
            "text/plain": [
              "array([60000.        , 55714.28571429, 51428.57142857, 47142.85714286])"
            ]
          },
          "metadata": {},
          "execution_count": 26
        }
      ]
    },
    {
      "cell_type": "code",
      "source": [
        "for chl, hrg in zip(tahun_chili, prediksi_harga):\n",
        "  print(f'Tahun : {chl} prediksi harga : {hrg}')"
      ],
      "metadata": {
        "colab": {
          "base_uri": "https://localhost:8080/"
        },
        "id": "1opoS-qV5yqi",
        "outputId": "f9b7c91f-3637-45ac-c361-53a7be7a7336"
      },
      "execution_count": 27,
      "outputs": [
        {
          "output_type": "stream",
          "name": "stdout",
          "text": [
            "Tahun : [2023] prediksi harga : 60000.0\n",
            "Tahun : [2024] prediksi harga : 55714.28571428731\n",
            "Tahun : [2025] prediksi harga : 51428.57142857276\n",
            "Tahun : [2026] prediksi harga : 47142.85714285821\n"
          ]
        }
      ]
    },
    {
      "cell_type": "code",
      "source": [
        "tahun_chili = tahun_chili.flatten()\n",
        "\n",
        "plt.scatter(tahun_chili, prediksi_harga)\n",
        "\n",
        "plt.title('Prediksi harga cabai 4 tahun ke depan')\n",
        "plt.xlabel('Tahun')\n",
        "plt.ylabel('Harga Cabai (Rp/Kg)')\n",
        "plt.xlim(2022, 2028)\n",
        "plt.grid(True)\n",
        "plt.show()"
      ],
      "metadata": {
        "colab": {
          "base_uri": "https://localhost:8080/",
          "height": 295
        },
        "id": "KvjSRq1aeaPz",
        "outputId": "0e932f8c-2b1a-4c42-d952-aac5e5c15133"
      },
      "execution_count": 31,
      "outputs": [
        {
          "output_type": "display_data",
          "data": {
            "text/plain": [
              "<Figure size 432x288 with 1 Axes>"
            ],
            "image/png": "[encoded data removed]"
          },
          "metadata": {
            "needs_background": "light"
          }
        }
      ]
    },
    {
      "cell_type": "markdown",
      "source": [
        "# Evaluasi Simple Linear Regression Model"
      ],
      "metadata": {
        "id": "O8rFkuGlU_wp"
      }
    },
    {
      "cell_type": "markdown",
      "source": [
        "**Training & Testing Dataset**\n",
        "\n",
        "Pada bagian ini akan dilakukan evaluasi terhadap model menggunakan data tes dan data training"
      ],
      "metadata": {
        "id": "ZOFtQI7HVJp9"
      }
    },
    {
      "cell_type": "code",
      "source": [
        "x_train = np.array([2017, 2018, 2019, 2020, 2021, 2022]).reshape(-1, 1)\n",
        "y_train = np.array([120000, 60000, 50000, 60000, 90000, 70000])\n",
        "\n",
        "x_test = np.array([2023, 2024, 2025, 2026, 2027, 2028]).reshape(-1, 1)\n",
        "y_test = np.array([100000, 40000, 450000, 700000, 50000, 90000])"
      ],
      "metadata": {
        "id": "DvbokvySVmkS"
      },
      "execution_count": null,
      "outputs": []
    },
    {
      "cell_type": "markdown",
      "source": [
        "**Training Simple Linear Regression Model**\n",
        "\n",
        "Pada bagian ini akan dibuat sebuah model baru menggunakan Linear Regression"
      ],
      "metadata": {
        "id": "lAKkK_rlXEIw"
      }
    },
    {
      "cell_type": "code",
      "source": [
        "model = LinearRegression()\n",
        "model.fit(x_train, y_train)"
      ],
      "metadata": {
        "colab": {
          "base_uri": "https://localhost:8080/"
        },
        "id": "-No1X412XXV2",
        "outputId": "788019c9-544f-41af-f0f4-960b68f2f509"
      },
      "execution_count": null,
      "outputs": [
        {
          "output_type": "execute_result",
          "data": {
            "text/plain": [
              "LinearRegression()"
            ]
          },
          "metadata": {},
          "execution_count": 17
        }
      ]
    },
    {
      "cell_type": "markdown",
      "source": [
        "**Evaluasi Linear Regression dengan Coefficient of Determination atau R-squered**\n",
        "\n",
        "Pada bagian ini akan dilakukannya proses evaluasi model"
      ],
      "metadata": {
        "id": "HnPXs3rcXuXR"
      }
    },
    {
      "cell_type": "code",
      "source": [
        "from sklearn.metrics import r2_score\n",
        "\n",
        "y_pred = model.predict(x_test)\n",
        "\n",
        "r_squared = r2_score(y_test, y_pred)\n",
        "\n",
        "print(f'R-squered: {r_squared}')"
      ],
      "metadata": {
        "colab": {
          "base_uri": "https://localhost:8080/"
        },
        "id": "ZNSD9lCjYc6a",
        "outputId": "9a7d383f-a816-4941-8a77-aa85b29de2dc"
      },
      "execution_count": null,
      "outputs": [
        {
          "output_type": "stream",
          "name": "stdout",
          "text": [
            "R-squered: -0.5770280117574536\n"
          ]
        }
      ]
    },
    {
      "cell_type": "markdown",
      "source": [
        "Pada hasil diatas dapat dikatakan bahwa model yang dibuat buruk karena hasil perhitungan evaluasi model menggunakan R-squered adalah negatif"
      ],
      "metadata": {
        "id": "xb2V9Ad4aBjQ"
      }
    }
  ]
}